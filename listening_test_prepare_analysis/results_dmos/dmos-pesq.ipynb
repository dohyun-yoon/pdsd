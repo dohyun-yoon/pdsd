{
 "cells": [
  {
   "cell_type": "code",
   "execution_count": 2,
   "metadata": {},
   "outputs": [],
   "source": [
    "dmos_systems = ['S5G16', 'S5G13', 'S5G11', 'S5G8', 'S5G6', 'S15G11', 'S15G8', 'S15G6', 'S15G3', 'S25G6', 'S25G3', 'S25G1', 'S35G1', 'S45G1', 'ORI']\n",
    "dmos_scores = [1.6560509554140128, 1.6928104575163399, 2.0194805194805197, 2.1575342465753424, 2.228187919463087, 2.4680851063829787, 2.675, 2.8701298701298703, 3.212328767123288, 3.2193548387096773, 3.643835616438356, 3.858064516129032, 4.3, 4.477707006369426, 4.726114649681529]\n",
    "dmos_dict = dict(zip(dmos_systems, dmos_scores))"
   ]
  },
  {
   "cell_type": "code",
   "execution_count": 3,
   "metadata": {},
   "outputs": [
    {
     "data": {
      "text/plain": [
       "{'S5G16': 1.6560509554140128,\n",
       " 'S5G13': 1.6928104575163399,\n",
       " 'S5G11': 2.0194805194805197,\n",
       " 'S5G8': 2.1575342465753424,\n",
       " 'S5G6': 2.228187919463087,\n",
       " 'S15G11': 2.4680851063829787,\n",
       " 'S15G8': 2.675,\n",
       " 'S15G6': 2.8701298701298703,\n",
       " 'S15G3': 3.212328767123288,\n",
       " 'S25G6': 3.2193548387096773,\n",
       " 'S25G3': 3.643835616438356,\n",
       " 'S25G1': 3.858064516129032,\n",
       " 'S35G1': 4.3,\n",
       " 'S45G1': 4.477707006369426,\n",
       " 'ORI': 4.726114649681529}"
      ]
     },
     "execution_count": 3,
     "metadata": {},
     "output_type": "execute_result"
    }
   ],
   "source": [
    "dmos_dict"
   ]
  },
  {
   "cell_type": "code",
   "execution_count": null,
   "metadata": {},
   "outputs": [],
   "source": [
    "import os\n",
    "import torchaudio\n",
    "from tqdm import tqdm\n",
    "from torchmetrics.audio.pesq import PerceptualEvaluationSpeechQuality\n",
    "\n",
    "# Initialize PESQ metric\n",
    "pesq_metric = PerceptualEvaluationSpeechQuality(fs=16000, mode='nb')\n",
    "\n",
    "# Directory containing subdirectories with WAV files\n",
    "base_dir = '../test_samples_by_system'\n",
    "reference_dir = os.path.join(base_dir, 'original')\n",
    "\n",
    "# Dictionary to store mean PESQ scores for each subdirectory\n",
    "mean_pesq_scores = {}\n",
    "\n",
    "# Load reference WAV files\n",
    "reference_wavs = {}\n",
    "for file in os.listdir(reference_dir):\n",
    "    if file.endswith('.wav'):\n",
    "        file_path = os.path.join(reference_dir, file)\n",
    "        waveform, sample_rate = torchaudio.load(file_path)\n",
    "        reference_wavs[file] = waveform"
   ]
  },
  {
   "cell_type": "code",
   "execution_count": 11,
   "metadata": {},
   "outputs": [
    {
     "name": "stderr",
     "output_type": "stream",
     "text": [
      "100%|██████████| 50/50 [00:08<00:00,  5.89it/s]\n",
      "100%|██████████| 50/50 [00:07<00:00,  6.37it/s]\n",
      "100%|██████████| 50/50 [00:07<00:00,  6.34it/s]\n",
      "100%|██████████| 50/50 [00:08<00:00,  6.18it/s]\n",
      "100%|██████████| 50/50 [00:07<00:00,  6.25it/s]\n",
      "100%|██████████| 50/50 [00:07<00:00,  6.53it/s]\n",
      "100%|██████████| 50/50 [00:08<00:00,  6.14it/s]\n",
      "100%|██████████| 50/50 [00:08<00:00,  5.89it/s]\n",
      "100%|██████████| 50/50 [00:08<00:00,  5.58it/s]\n",
      "100%|██████████| 50/50 [00:07<00:00,  6.28it/s]\n",
      "100%|██████████| 50/50 [00:08<00:00,  6.19it/s]\n",
      "100%|██████████| 50/50 [00:07<00:00,  6.35it/s]\n",
      "100%|██████████| 50/50 [00:08<00:00,  6.19it/s]\n",
      "100%|██████████| 50/50 [00:07<00:00,  6.37it/s]\n"
     ]
    },
    {
     "data": {
      "text/plain": [
       "{'SNR15-GD11d25': 2.304280676841736,\n",
       " 'SNR25-GD1d25': 3.7990188598632812,\n",
       " 'SNR15-GD3d75': 3.1559175157547,\n",
       " 'SNR25-GD6d25': 3.270290899276733,\n",
       " 'SNR15-GD6d25': 2.8429664278030398,\n",
       " 'SNR45-GD1d25': 4.4097826957702635,\n",
       " 'SNR15-GD8d75': 2.5103011417388914,\n",
       " 'SNR5-GD13d75': 2.2606804513931276,\n",
       " 'SNR5-GD16d25': 1.9089138746261596,\n",
       " 'SNR25-GD3d75': 3.516825547218323,\n",
       " 'SNR5-GD8d75': 2.8220131635665893,\n",
       " 'SNR35-GD1d25': 4.187662181854248,\n",
       " 'SNR5-GD11d25': 2.601540353298187,\n",
       " 'SNR5-GD6d25': 3.0331207084655762}"
      ]
     },
     "execution_count": 11,
     "metadata": {},
     "output_type": "execute_result"
    }
   ],
   "source": [
    "# Iterate over each subdirectory\n",
    "for subdir in os.listdir(base_dir):\n",
    "    subdir_path = os.path.join(base_dir, subdir)\n",
    "    if os.path.isdir(subdir_path) and subdir != 'original':\n",
    "        pesq_scores = []\n",
    "        # Iterate over each WAV file in the subdirectory\n",
    "        for file in tqdm(os.listdir(subdir_path)):\n",
    "            file_path = os.path.join(subdir_path, file)\n",
    "            file_name = file[:8]+'.wav'\n",
    "            # Load the WAV file\n",
    "            degraded_waveform, sample_rate = torchaudio.load(file_path)\n",
    "            # Calculate PESQ score using the reference waveform\n",
    "            pesq_score = pesq_metric(reference_wavs[file_name], degraded_waveform)\n",
    "            pesq_scores.append(pesq_score.item())\n",
    "        # Calculate mean PESQ score for the subdirectory\n",
    "        if pesq_scores:\n",
    "            mean_pesq_scores[subdir] = sum(pesq_scores) / len(pesq_scores)\n",
    "\n",
    "mean_pesq_scores"
   ]
  },
  {
   "cell_type": "code",
   "execution_count": 18,
   "metadata": {},
   "outputs": [],
   "source": [
    "# dmos_systems = ['SNR5-GD16d25', 'SNR5-GD13d75', 'SNR5-GD11d25', 'SNR5-GD8d75', 'SNR5-GD6d25', \n",
    "#                 'SNR15-GD11d25', 'SNR15-GD8d75', 'SNR15-GD6d25', 'SNR15-GD3d75', 'SNR25-GD6d25', \n",
    "#                 'SNR25-GD3d75', 'SNR25-GD1d25', 'SNR35-GD1d25', 'SNR45-GD1d25', 'ORI']\n",
    "dmos_systems = ['S5G16', 'S5G13', 'S5G11', 'S5G8', 'S5G6', 'S15G11', 'S15G8', 'S15G6', 'S15G3', 'S25G6', 'S25G3', 'S25G1', 'S35G1', 'S45G1', 'ORI']"
   ]
  },
  {
   "cell_type": "code",
   "execution_count": 14,
   "metadata": {},
   "outputs": [
    {
     "name": "stdout",
     "output_type": "stream",
     "text": [
      "SNR5-GD16d25: 1.9089138746261596\n",
      "SNR5-GD13d75: 2.2606804513931276\n",
      "SNR5-GD11d25: 2.601540353298187\n",
      "SNR5-GD8d75: 2.8220131635665893\n",
      "SNR5-GD6d25: 3.0331207084655762\n",
      "SNR15-GD11d25: 2.304280676841736\n",
      "SNR15-GD8d75: 2.5103011417388914\n",
      "SNR15-GD6d25: 2.8429664278030398\n",
      "SNR15-GD3d75: 3.1559175157547\n",
      "SNR25-GD6d25: 3.270290899276733\n",
      "SNR25-GD3d75: 3.516825547218323\n",
      "SNR25-GD1d25: 3.7990188598632812\n",
      "SNR35-GD1d25: 4.187662181854248\n",
      "SNR45-GD1d25: 4.4097826957702635\n",
      "ORI: Not available\n"
     ]
    }
   ],
   "source": [
    "# Sort mean_pesq_scores by the keys (subdirectory names)\n",
    "sorted_mean_pesq_scores = dict(sorted(mean_pesq_scores.items()))\n",
    "\n",
    "# Print the sorted mean_pesq_scores along with dmos_systems\n",
    "for system in dmos_systems:\n",
    "    if system in sorted_mean_pesq_scores:\n",
    "        print(f\"{system}: {sorted_mean_pesq_scores[system]}\")\n",
    "    else:\n",
    "        print(f\"{system}: Not available\")"
   ]
  },
  {
   "cell_type": "code",
   "execution_count": 16,
   "metadata": {},
   "outputs": [
    {
     "name": "stdout",
     "output_type": "stream",
     "text": [
      "tensor(4.5486)\n"
     ]
    }
   ],
   "source": [
    "pesq_score = pesq_metric(reference_wavs[file_name], reference_wavs[file_name])\n",
    "print(pesq_score)"
   ]
  },
  {
   "cell_type": "code",
   "execution_count": 20,
   "metadata": {},
   "outputs": [],
   "source": [
    "mean_pesq_scores['ORI'] = pesq_score.item()"
   ]
  },
  {
   "cell_type": "code",
   "execution_count": 21,
   "metadata": {},
   "outputs": [
    {
     "data": {
      "text/plain": [
       "{'SNR15-GD11d25': 2.304280676841736,\n",
       " 'SNR25-GD1d25': 3.7990188598632812,\n",
       " 'SNR15-GD3d75': 3.1559175157547,\n",
       " 'SNR25-GD6d25': 3.270290899276733,\n",
       " 'SNR15-GD6d25': 2.8429664278030398,\n",
       " 'SNR45-GD1d25': 4.4097826957702635,\n",
       " 'SNR15-GD8d75': 2.5103011417388914,\n",
       " 'SNR5-GD13d75': 2.2606804513931276,\n",
       " 'SNR5-GD16d25': 1.9089138746261596,\n",
       " 'SNR25-GD3d75': 3.516825547218323,\n",
       " 'SNR5-GD8d75': 2.8220131635665893,\n",
       " 'SNR35-GD1d25': 4.187662181854248,\n",
       " 'SNR5-GD11d25': 2.601540353298187,\n",
       " 'SNR5-GD6d25': 3.0331207084655762,\n",
       " 'ORI': 4.548638343811035}"
      ]
     },
     "execution_count": 21,
     "metadata": {},
     "output_type": "execute_result"
    }
   ],
   "source": [
    "mean_pesq_scores"
   ]
  }
 ],
 "metadata": {
  "kernelspec": {
   "display_name": "venv",
   "language": "python",
   "name": "python3"
  },
  "language_info": {
   "codemirror_mode": {
    "name": "ipython",
    "version": 3
   },
   "file_extension": ".py",
   "mimetype": "text/x-python",
   "name": "python",
   "nbconvert_exporter": "python",
   "pygments_lexer": "ipython3",
   "version": "3.8.10"
  }
 },
 "nbformat": 4,
 "nbformat_minor": 2
}
