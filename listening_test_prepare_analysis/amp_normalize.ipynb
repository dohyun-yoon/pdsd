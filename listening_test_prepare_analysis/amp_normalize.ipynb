{
 "cells": [
  {
   "cell_type": "code",
   "execution_count": 18,
   "metadata": {},
   "outputs": [],
   "source": [
    "import os\n",
    "import glob\n",
    "import numpy as np\n",
    "import torch\n",
    "import torchaudio\n",
    "from pydub import AudioSegment\n",
    "from tqdm import tqdm\n",
    "import csv"
   ]
  },
  {
   "cell_type": "code",
   "execution_count": 19,
   "metadata": {},
   "outputs": [],
   "source": [
    "def normalize_audio(audio, target_dBFS=-20.0):\n",
    "    change_in_dBFS = target_dBFS - audio.dBFS\n",
    "    return audio.apply_gain(change_in_dBFS)"
   ]
  },
  {
   "cell_type": "code",
   "execution_count": 4,
   "metadata": {},
   "outputs": [],
   "source": [
    "wav_paths = glob.glob('./test_samples/*/*.wav')"
   ]
  },
  {
   "cell_type": "code",
   "execution_count": 9,
   "metadata": {},
   "outputs": [],
   "source": [
    "dBFS_list = list()"
   ]
  },
  {
   "cell_type": "code",
   "execution_count": 20,
   "metadata": {},
   "outputs": [
    {
     "name": "stderr",
     "output_type": "stream",
     "text": [
      "100%|██████████| 750/750 [00:01<00:00, 554.82it/s]\n"
     ]
    }
   ],
   "source": [
    "for wav_path in tqdm(wav_paths):\n",
    "    new_path = wav_path.replace('test_samples', 'test_samples_ampnorm')\n",
    "    os.makedirs(os.path.dirname(new_path), exist_ok=True)\n",
    "    \n",
    "    audio = AudioSegment.from_wav(wav_path)\n",
    "    dBFS_list.append(audio.dBFS)\n",
    "    normalized_audio = normalize_audio(audio, target_dBFS=-25.0)\n",
    "    normalized_audio.export(new_path, format='wav')"
   ]
  },
  {
   "cell_type": "code",
   "execution_count": 2,
   "metadata": {},
   "outputs": [],
   "source": [
    "wav_paths = glob.glob('./test_samples_ampnorm/*/*.wav')\n",
    "filters = [\n",
    "    {'pSNR': 5, 'pGD': [6.25, 8.75, 11.25, 13.75, 16.25]},\n",
    "    {'pSNR': 15, 'pGD': [3.75, 6.25, 8.75, 11.25]},\n",
    "    {'pSNR': 25, 'pGD': [1.25, 3.75, 6.25]},\n",
    "    {'pSNR': 35, 'pGD': [1.25]},\n",
    "    {'pSNR': 45, 'pGD': [1.25]}\n",
    "]"
   ]
  },
  {
   "cell_type": "code",
   "execution_count": 4,
   "metadata": {},
   "outputs": [
    {
     "name": "stdout",
     "output_type": "stream",
     "text": [
      "5 6.25\n",
      "5 8.75\n",
      "5 11.25\n",
      "5 13.75\n",
      "5 16.25\n",
      "15 3.75\n",
      "15 6.25\n",
      "15 8.75\n",
      "15 11.25\n",
      "25 1.25\n",
      "25 3.75\n",
      "25 6.25\n",
      "35 1.25\n",
      "45 1.25\n"
     ]
    }
   ],
   "source": [
    "for f in filters:\n",
    "    pSNR_target = f['pSNR']\n",
    "    pGD_targets = f['pGD']\n",
    "    for pGD_target in pGD_targets:\n",
    "        print(pSNR_target, pGD_target)"
   ]
  },
  {
   "cell_type": "code",
   "execution_count": 7,
   "metadata": {},
   "outputs": [
    {
     "name": "stderr",
     "output_type": "stream",
     "text": [
      "  0%|          | 0/750 [00:00<?, ?it/s]"
     ]
    },
    {
     "name": "stderr",
     "output_type": "stream",
     "text": [
      "100%|██████████| 750/750 [02:42<00:00,  4.61it/s]\n"
     ]
    }
   ],
   "source": [
    "for wav_path in tqdm(wav_paths):\n",
    "    wav_name = os.path.basename(wav_path)\n",
    "    \n",
    "    if wav_name[0] != 'p':\n",
    "        snr = wav_name[:-4].split('-')[0].split('_')[1]\n",
    "        gd = wav_name[:-4].split('-')[1].split('_')[1]\n",
    "        \n",
    "        for f in filters:\n",
    "            pSNR_target = f['pSNR']\n",
    "            pGD_targets = f['pGD']\n",
    "            \n",
    "            for pGD_target in pGD_targets:\n",
    "                \n",
    "                if abs(float(snr)-pSNR_target)<=1.0 and abs(float(gd)-pGD_target)<=1.0:\n",
    "                    new_dir = f\"./test_samples_by_system/SNR{pSNR_target}-GD{str(pGD_target).replace('.', 'd')}\"\n",
    "                    os.makedirs(new_dir, exist_ok=True)\n",
    "                    new_wav_name = f\"{wav_path.split('/')[-2]}-SNR{str(snr).replace('.', 'd')}-GD{str(gd).replace('.', 'd')}.wav\"\n",
    "                    !cp {wav_path} {os.path.join(new_dir, new_wav_name)}"
   ]
  },
  {
   "cell_type": "code",
   "execution_count": 4,
   "metadata": {},
   "outputs": [
    {
     "name": "stdout",
     "output_type": "stream",
     "text": [
      "['./test_samples_by_system/original/p226_263.wav', './test_samples_by_system/original/p227_298.wav', './test_samples_by_system/original/p228_220.wav', './test_samples_by_system/original/p229_112.wav', './test_samples_by_system/original/p230_122.wav', './test_samples_by_system/original/p231_029.wav', './test_samples_by_system/original/p232_260.wav', './test_samples_by_system/original/p236_040.wav', './test_samples_by_system/original/p239_312.wav', './test_samples_by_system/original/p240_059.wav', './test_samples_by_system/original/p243_066.wav', './test_samples_by_system/original/p244_156.wav', './test_samples_by_system/original/p254_213.wav', './test_samples_by_system/original/p256_233.wav', './test_samples_by_system/original/p257_013.wav', './test_samples_by_system/original/p258_125.wav', './test_samples_by_system/original/p259_135.wav', './test_samples_by_system/original/p267_059.wav', './test_samples_by_system/original/p268_210.wav', './test_samples_by_system/original/p269_283.wav', './test_samples_by_system/original/p270_037.wav', './test_samples_by_system/original/p273_045.wav', './test_samples_by_system/original/p274_078.wav', './test_samples_by_system/original/p276_061.wav', './test_samples_by_system/original/p277_107.wav', './test_samples_by_system/original/p278_357.wav', './test_samples_by_system/original/p279_305.wav', './test_samples_by_system/original/p282_311.wav', './test_samples_by_system/original/p286_049.wav', './test_samples_by_system/original/p287_029.wav', './test_samples_by_system/original/p294_140.wav', './test_samples_by_system/original/p297_333.wav', './test_samples_by_system/original/p299_287.wav', './test_samples_by_system/original/p300_162.wav', './test_samples_by_system/original/p301_181.wav', './test_samples_by_system/original/p305_304.wav', './test_samples_by_system/original/p306_157.wav', './test_samples_by_system/original/p310_121.wav', './test_samples_by_system/original/p311_136.wav', './test_samples_by_system/original/p315_231.wav', './test_samples_by_system/original/p329_280.wav', './test_samples_by_system/original/p330_323.wav', './test_samples_by_system/original/p333_420.wav', './test_samples_by_system/original/p334_210.wav', './test_samples_by_system/original/p339_267.wav', './test_samples_by_system/original/p341_127.wav', './test_samples_by_system/original/p345_400.wav', './test_samples_by_system/original/p360_010.wav', './test_samples_by_system/original/p361_336.wav', './test_samples_by_system/original/p362_095.wav']\n",
      "750\n"
     ]
    }
   ],
   "source": [
    "original_wav_paths = glob.glob('./test_samples_by_system/original/*.wav')\n",
    "wav_paths = glob.glob('./test_samples_by_system/*/*.wav')\n",
    "print(original_wav_paths)\n",
    "print(len(wav_paths))"
   ]
  },
  {
   "cell_type": "code",
   "execution_count": 17,
   "metadata": {},
   "outputs": [
    {
     "name": "stderr",
     "output_type": "stream",
     "text": [
      "100%|██████████| 750/750 [00:31<00:00, 23.59it/s]\n"
     ]
    }
   ],
   "source": [
    "for wav_path in tqdm(wav_paths):\n",
    "    dir_name = os.path.dirname(wav_path)\n",
    "    base_name = os.path.basename(wav_path)\n",
    "    utt_name = base_name[:8]\n",
    "\n",
    "    y, sr = torchaudio.load(wav_path)\n",
    "    x, sr = torchaudio.load(f'./test_samples_by_system/original/{utt_name}.wav')\n",
    "    z = torch.concat([x, torch.zeros(1, sr), y], axis=1)\n",
    "    \n",
    "    new_dir_name = dir_name.replace('test_samples_by_system', 'test_samples_dmos')\n",
    "    os.makedirs(new_dir_name, exist_ok=True)\n",
    "    torchaudio.save(os.path.join(new_dir_name, base_name), z, sr)"
   ]
  },
  {
   "cell_type": "code",
   "execution_count": 20,
   "metadata": {},
   "outputs": [],
   "source": [
    "directory = 'test_samples_dmos'\n",
    "for subdir in os.listdir(directory):\n",
    "    data = []\n",
    "    for wav_path in os.listdir(os.path.join(directory, subdir)):\n",
    "        file_path = f'/nas02/internal/d_yoon/nii-listening-test-scripts/my_listening_test_dmos/test_samples_dmos/{subdir}/{wav_path}'\n",
    "        data.append({\"system_name\": subdir, \"sample_name\": wav_path[:-4], \"sample_file_path\": file_path})\n",
    "    \n",
    "    with open(f'{subdir}.csv', mode='w', newline='') as f:\n",
    "        fieldnames = [\"system_name\", \"sample_name\", \"sample_file_path\"]\n",
    "        writer = csv.DictWriter(f, fieldnames=fieldnames)\n",
    "        \n",
    "        writer.writeheader()\n",
    "        writer.writerows(data)"
   ]
  },
  {
   "cell_type": "code",
   "execution_count": 35,
   "metadata": {},
   "outputs": [],
   "source": [
    "# for manifest csv\n",
    "directory = 'test_samples_dmos'\n",
    "data = []\n",
    "for _ in range(4):\n",
    "    for subdir in os.listdir(directory):\n",
    "        for wav_path in os.listdir(os.path.join(directory, subdir)):\n",
    "            file_path = f'/nas02/internal/d_yoon/nii-listening-test-scripts/my_listening_test_dmos/test_samples_dmos/{subdir}/{wav_path}'\n",
    "            data.append({\"system_name\": f\"{subdir}-dmos\", \"sample_name\": wav_path[:-4]})"
   ]
  },
  {
   "cell_type": "code",
   "execution_count": 36,
   "metadata": {},
   "outputs": [
    {
     "name": "stdout",
     "output_type": "stream",
     "text": [
      "3000\n"
     ]
    }
   ],
   "source": [
    "import random\n",
    "random.shuffle(data)\n",
    "print(len(data))"
   ]
  },
  {
   "cell_type": "code",
   "execution_count": 37,
   "metadata": {},
   "outputs": [],
   "source": [
    "with open(f'sample_list.csv', mode='w', newline='') as f:\n",
    "    fieldnames = [\"system_name\", \"sample_name\"]\n",
    "    writer = csv.DictWriter(f, fieldnames=fieldnames)\n",
    "    \n",
    "    writer.writerows(data)"
   ]
  }
 ],
 "metadata": {
  "kernelspec": {
   "display_name": "venv",
   "language": "python",
   "name": "python3"
  },
  "language_info": {
   "codemirror_mode": {
    "name": "ipython",
    "version": 3
   },
   "file_extension": ".py",
   "mimetype": "text/x-python",
   "name": "python",
   "nbconvert_exporter": "python",
   "pygments_lexer": "ipython3",
   "version": "3.8.10"
  }
 },
 "nbformat": 4,
 "nbformat_minor": 2
}
